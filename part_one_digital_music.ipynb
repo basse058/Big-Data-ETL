{
  "cells": [
    {
      "cell_type": "markdown",
      "metadata": {
        "id": "view-in-github",
        "colab_type": "text"
      },
      "source": [
        "<a href=\"https://colab.research.google.com/github/basse058/Big-Data-ETL/blob/main/part_one_digital_music.ipynb\" target=\"_parent\"><img src=\"https://colab.research.google.com/assets/colab-badge.svg\" alt=\"Open In Colab\"/></a>"
      ]
    },
    {
      "cell_type": "code",
      "execution_count": null,
      "metadata": {
        "colab": {
          "base_uri": "https://localhost:8080/"
        },
        "id": "-8eFW_wl1n39",
        "outputId": "6325bbe7-47fa-4112-fdd4-fc8f18bf4291"
      },
      "outputs": [
        {
          "output_type": "stream",
          "name": "stdout",
          "text": [
            "\r0% [Working]\r            \rGet:1 http://security.ubuntu.com/ubuntu focal-security InRelease [114 kB]\n",
            "\r0% [Connecting to archive.ubuntu.com (185.125.190.39)] [1 InRelease 14.2 kB/114\r                                                                               \rHit:2 https://cloud.r-project.org/bin/linux/ubuntu focal-cran40/ InRelease\n",
            "\r0% [Connecting to archive.ubuntu.com (185.125.190.39)] [1 InRelease 75.0 kB/114\r0% [Connecting to archive.ubuntu.com (185.125.190.39)] [Waiting for headers] [C\r                                                                               \rHit:3 http://ppa.launchpad.net/c2d4u.team/c2d4u4.0+/ubuntu focal InRelease\n",
            "Hit:4 http://archive.ubuntu.com/ubuntu focal InRelease\n",
            "Ign:5 https://developer.download.nvidia.com/compute/machine-learning/repos/ubuntu2004/x86_64  InRelease\n",
            "Get:6 http://archive.ubuntu.com/ubuntu focal-updates InRelease [114 kB]\n",
            "Hit:7 https://developer.download.nvidia.com/compute/cuda/repos/ubuntu2004/x86_64  InRelease\n",
            "Hit:8 https://developer.download.nvidia.com/compute/machine-learning/repos/ubuntu2004/x86_64  Release\n",
            "Hit:9 http://ppa.launchpad.net/cran/libgit2/ubuntu focal InRelease\n",
            "Hit:10 http://ppa.launchpad.net/deadsnakes/ppa/ubuntu focal InRelease\n",
            "Get:11 http://archive.ubuntu.com/ubuntu focal-backports InRelease [108 kB]\n",
            "Hit:12 http://ppa.launchpad.net/graphics-drivers/ppa/ubuntu focal InRelease\n",
            "Hit:14 http://ppa.launchpad.net/ubuntugis/ppa/ubuntu focal InRelease\n",
            "Fetched 336 kB in 1s (260 kB/s)\n",
            "Reading package lists... Done\n"
          ]
        }
      ],
      "source": [
        "# Activate Spark in our Colab notebook.\n",
        "import os\n",
        "# Find the latest version of spark 3.2  from http://www.apache.org/dist/spark/ and enter as the spark version\n",
        "# For example:\n",
        "# spark_version = 'spark-3.2.2'\n",
        "spark_version = 'spark-3.2.3'\n",
        "os.environ['SPARK_VERSION']=spark_version\n",
        "\n",
        "# Install Spark and Java\n",
        "!apt-get update\n",
        "!apt-get install openjdk-11-jdk-headless -qq > /dev/null\n",
        "!wget -q http://www.apache.org/dist/spark/$SPARK_VERSION/$SPARK_VERSION-bin-hadoop2.7.tgz\n",
        "!tar xf $SPARK_VERSION-bin-hadoop2.7.tgz\n",
        "!pip install -q findspark\n",
        "\n",
        "# Set Environment Variables\n",
        "import os\n",
        "os.environ[\"JAVA_HOME\"] = \"/usr/lib/jvm/java-11-openjdk-amd64\"\n",
        "os.environ[\"SPARK_HOME\"] = f\"/content/{spark_version}-bin-hadoop2.7\"\n",
        "\n",
        "# Start a SparkSession\n",
        "import findspark\n",
        "findspark.init()"
      ]
    },
    {
      "cell_type": "code",
      "execution_count": null,
      "metadata": {
        "colab": {
          "base_uri": "https://localhost:8080/"
        },
        "id": "BzCrgs0Z1rnw",
        "outputId": "824cf35f-efc9-47da-f6fb-97f5219b2412"
      },
      "outputs": [
        {
          "output_type": "stream",
          "name": "stdout",
          "text": [
            "--2023-03-12 00:18:27--  https://jdbc.postgresql.org/download/postgresql-42.2.9.jar\n",
            "Resolving jdbc.postgresql.org (jdbc.postgresql.org)... 72.32.157.228, 2001:4800:3e1:1::228\n",
            "Connecting to jdbc.postgresql.org (jdbc.postgresql.org)|72.32.157.228|:443... connected.\n",
            "HTTP request sent, awaiting response... 200 OK\n",
            "Length: 914037 (893K) [application/java-archive]\n",
            "Saving to: ‘postgresql-42.2.9.jar.1’\n",
            "\n",
            "postgresql-42.2.9.j 100%[===================>] 892.61K  4.99MB/s    in 0.2s    \n",
            "\n",
            "2023-03-12 00:18:28 (4.99 MB/s) - ‘postgresql-42.2.9.jar.1’ saved [914037/914037]\n",
            "\n"
          ]
        }
      ],
      "source": [
        "# Get postgresql package\n",
        "!wget https://jdbc.postgresql.org/download/postgresql-42.2.9.jar"
      ]
    },
    {
      "cell_type": "code",
      "execution_count": null,
      "metadata": {
        "id": "0DuBth0V2PR8"
      },
      "outputs": [],
      "source": [
        "# Import Spark and create a SparkSession\n",
        "from pyspark.sql import SparkSession\n",
        "spark = SparkSession.builder.appName(\"BigData-HW-1\").config(\"spark.driver.extraClassPath\",\"/content/postgresql-42.2.9.jar\").getOrCreate()"
      ]
    },
    {
      "cell_type": "markdown",
      "metadata": {
        "id": "D3W2XJVi2CU-"
      },
      "source": [
        "# Extract the Amazon Data into Spark DataFrame"
      ]
    },
    {
      "cell_type": "code",
      "execution_count": null,
      "metadata": {
        "colab": {
          "base_uri": "https://localhost:8080/"
        },
        "id": "Na_stw7b1wfU",
        "outputId": "91642321-1c3f-4930-d5d1-2ab52a637bb5"
      },
      "outputs": [
        {
          "output_type": "stream",
          "name": "stdout",
          "text": [
            "+-----------+-----------+--------------+----------+--------------+--------------------+--------------------+-----------+-------------+-----------+----+-----------------+--------------------+--------------------+-------------------+\n",
            "|marketplace|customer_id|     review_id|product_id|product_parent|       product_title|    product_category|star_rating|helpful_votes|total_votes|vine|verified_purchase|     review_headline|         review_body|        review_date|\n",
            "+-----------+-----------+--------------+----------+--------------+--------------------+--------------------+-----------+-------------+-----------+----+-----------------+--------------------+--------------------+-------------------+\n",
            "|         US|   10293599|R14LVB34Z2Z53I|B000YMOQZY|     262935067|Knockin' On Heave...|Digital_Music_Pur...|          5|            0|          0|   N|                Y|           favorites|Great  rendition....|2015-01-31 00:08:00|\n",
            "|         US|    6087195|R2M0R9CWPC82LT|B00ISAEC80|     452318038|            Flawless|Digital_Music_Pur...|          5|            0|          0|   N|                Y|          Five Stars|A good music to l...|2015-01-31 00:08:00|\n",
            "|         US|   33717063| RQNQI2R3BM52A|B00VBB6AVU|     675969129|    Scandal of Grace|Digital_Music_Pur...|          4|            0|          0|   N|                Y|                Good|Not as good as th...|2015-01-31 00:08:00|\n",
            "|         US|   14948020| RTUIX1135HUAB|B008A5POJO|     282925893|  I Surrender (Live)|Digital_Music_Pur...|          5|            0|          0|   N|                Y|Wonderful lyrics!...|Time to worship a...|2015-01-31 00:08:00|\n",
            "|         US|   21694522| RE3QSAT8TL010|B014CW2RN4|     109077793|We Are Young (Jer...|Digital_Music_Pur...|          4|            0|          0|   N|                Y|Hot remix but too...|So this should be...|2015-01-31 00:08:00|\n",
            "|         US|   14948020|R14TN65IY0NUOD|B00DRA3EOY|     959245080|        Lord, I Live|Digital_Music_Pur...|          5|            0|          0|   N|                Y|          Five Stars|Clint Brown is an...|2015-01-31 00:08:00|\n",
            "|         US|   20031966|R3LIF8MCNH1ODF|B009G3U0PW|     762436916|  I'll Never Be Free|Digital_Music_Pur...|          5|            0|          0|   N|                Y|\"I'll never be fr...|LaVerne Butler is...|2015-01-31 00:08:00|\n",
            "|         US|   12223745|R33X0DGA4PPQ3L|B013XBYQOS|     137980344|    All of the Stars|Digital_Music_Pur...|          5|            3|          3|   N|                N| long awaited treat!|For some reason I...|2015-01-31 00:08:00|\n",
            "|         US|   30231876|R2DJJP7DQRT1ZW|B003L5H25W|     165995375|Exile On Main Str...|Digital_Music_Pur...|          5|            0|          1|   N|                Y|          Five Stars|The Stones at the...|2015-01-31 00:08:00|\n",
            "|         US|   51714365|R2A8XDXW5XOT4H|B00136NVH4|     227508666|     Bat Out Of Hell|Digital_Music_Pur...|          5|            0|          0|   N|                Y|    Transcends Time.|    Simply the best.|2015-01-31 00:08:00|\n",
            "+-----------+-----------+--------------+----------+--------------+--------------------+--------------------+-----------+-------------+-----------+----+-----------------+--------------------+--------------------+-------------------+\n",
            "only showing top 10 rows\n",
            "\n"
          ]
        }
      ],
      "source": [
        "# Read in the data from an S3 Bucket\n",
        "from pyspark import SparkFiles\n",
        "\n",
        "url = \"https://s3.amazonaws.com/amazon-reviews-pds/tsv/amazon_reviews_us_Digital_Music_Purchase_v1_00.tsv.gz\" #enter correct address here\n",
        "\n",
        "spark.sparkContext.addFile(url)  #No need to use sparkcontext because we are reading it from a local folder\n",
        "\n",
        "df = spark.read.csv(SparkFiles.get(\"amazon_reviews_us_Digital_Music_Purchase_v1_00.tsv.gz\"), header=True, inferSchema=True, sep='\\t', timestampFormat=\"yyyy-mm-dd\")\n",
        "\n",
        "df.show(10)\n"
      ]
    },
    {
      "cell_type": "code",
      "execution_count": null,
      "metadata": {
        "colab": {
          "base_uri": "https://localhost:8080/"
        },
        "id": "Cayz-3Q52IM3",
        "outputId": "184d1a25-3984-486e-f4f6-3b0466c6bb2c"
      },
      "outputs": [
        {
          "output_type": "execute_result",
          "data": {
            "text/plain": [
              "1688884"
            ]
          },
          "metadata": {},
          "execution_count": 28
        }
      ],
      "source": [
        "# Get the number of rows in the DataFrame.\n",
        "df.count()\n"
      ]
    },
    {
      "cell_type": "markdown",
      "metadata": {
        "id": "C9U0rkGZ2eu7"
      },
      "source": [
        "# Transform the Data"
      ]
    },
    {
      "cell_type": "markdown",
      "source": [
        "## Create the \"review_id_table\"."
      ],
      "metadata": {
        "id": "dUoftWoKtM_c"
      }
    },
    {
      "cell_type": "code",
      "execution_count": null,
      "metadata": {
        "colab": {
          "base_uri": "https://localhost:8080/"
        },
        "id": "2tMYkSIk2d-m",
        "outputId": "43091ff1-a1ef-4b84-d9c3-7822ffdbac2f"
      },
      "outputs": [
        {
          "output_type": "stream",
          "name": "stdout",
          "text": [
            "+--------------+-----------+----------+--------------+-----------+\n",
            "|     review_id|customer_id|product_id|product_parent|review_date|\n",
            "+--------------+-----------+----------+--------------+-----------+\n",
            "|R14LVB34Z2Z53I|   10293599|B000YMOQZY|     262935067| 2015-01-31|\n",
            "|R2M0R9CWPC82LT|    6087195|B00ISAEC80|     452318038| 2015-01-31|\n",
            "| RQNQI2R3BM52A|   33717063|B00VBB6AVU|     675969129| 2015-01-31|\n",
            "| RTUIX1135HUAB|   14948020|B008A5POJO|     282925893| 2015-01-31|\n",
            "| RE3QSAT8TL010|   21694522|B014CW2RN4|     109077793| 2015-01-31|\n",
            "|R14TN65IY0NUOD|   14948020|B00DRA3EOY|     959245080| 2015-01-31|\n",
            "|R3LIF8MCNH1ODF|   20031966|B009G3U0PW|     762436916| 2015-01-31|\n",
            "|R33X0DGA4PPQ3L|   12223745|B013XBYQOS|     137980344| 2015-01-31|\n",
            "|R2DJJP7DQRT1ZW|   30231876|B003L5H25W|     165995375| 2015-01-31|\n",
            "|R2A8XDXW5XOT4H|   51714365|B00136NVH4|     227508666| 2015-01-31|\n",
            "|R3MJK3L7ER61TT|   37216001|B0030AKPQ6|     164096943| 2015-01-31|\n",
            "|R38Z7XMCVDR0R5|   49207156|B014EQE0V0|     714368268| 2015-01-31|\n",
            "|R3FFESBQXPR7S6|    2472364|B00USW4ZVU|      50310906| 2015-01-31|\n",
            "|R3QO6Z942CKH34|   22612468|B00ZZDJAX0|     162295903| 2015-01-31|\n",
            "|R297119MDWMG9P|    2254795|B014DIWONU|      44838453| 2015-01-31|\n",
            "| R7EJRSXIXMLIY|   12408664|B005DPTQNE|     454271984| 2015-01-31|\n",
            "|R2EBGPZD0B3TSV|   36236254|B004LI9ATO|     519024911| 2015-01-31|\n",
            "|R229VSSFBNB90C|   10456004|B00984QCM4|     647155979| 2015-01-31|\n",
            "|R12YCDYTDBJH3X|   16822806|B00ZKCAK4O|     346522639| 2015-01-31|\n",
            "|R3DEVUNGQ2Y98S|   30704319|B014GWCW8K|     260814213| 2015-01-31|\n",
            "+--------------+-----------+----------+--------------+-----------+\n",
            "only showing top 20 rows\n",
            "\n"
          ]
        }
      ],
      "source": [
        "from pyspark.sql.functions import to_date\n",
        "# Create the \"review_id_df\" DataFrame with the appropriate columns and data types.\n",
        "review_id_df = df.select(['review_id','customer_id','product_id','product_parent',to_date(df.review_date, 'yyyy-MM-dd').alias('review_date')])\n",
        "review_id_df.show()"
      ]
    },
    {
      "cell_type": "markdown",
      "source": [
        "## Create the \"products\" Table"
      ],
      "metadata": {
        "id": "aAVCFjXhtXO8"
      }
    },
    {
      "cell_type": "code",
      "execution_count": null,
      "metadata": {
        "id": "g9gTNhT62je4",
        "colab": {
          "base_uri": "https://localhost:8080/"
        },
        "outputId": "bbad90a3-a4ca-4c13-c71d-fe7eede89b84"
      },
      "outputs": [
        {
          "output_type": "stream",
          "name": "stdout",
          "text": [
            "+----------+--------------------+\n",
            "|product_id|       product_title|\n",
            "+----------+--------------------+\n",
            "|B000PI8FDQ|       Lost Together|\n",
            "|B000PJ87FG|Til I Am Myself A...|\n",
            "|B000PJC5OA|Greatest Hits Vol. 1|\n",
            "|B000PJDLMA|Just Like A Vacat...|\n",
            "|B000Q397XW|Lieder ohne Worte...|\n",
            "|B000Q39E5S|String Quartet No...|\n",
            "|B000Q3ASAS|Moments musicaux,...|\n",
            "|B000Q3BCDK|Songs of Grace an...|\n",
            "|B000Q3BJ8S|           Royal Sec|\n",
            "|B000Q3CXNS|Oboe Concerto in ...|\n",
            "|B000Q3D84G|24 Preludes, Op. ...|\n",
            "|B000Q3DMQA|Toccata festiva, ...|\n",
            "|B000Q3EL6A|Gloria in D Major...|\n",
            "|B000Q3ESKY|Requiem, Op. 66: ...|\n",
            "|B000Q3EUDY|Concerto for 2 Vi...|\n",
            "|B000Q3FBUA|Dance Of The Fron...|\n",
            "|B000Q3FDWQ|Knoxville: Summer...|\n",
            "|B000Q3FRAE|Toccata & Fugue i...|\n",
            "|B000Q3GPHI|Prayer of St. Gre...|\n",
            "|B000Q3GRQW|Oboe Concerto, G ...|\n",
            "+----------+--------------------+\n",
            "only showing top 20 rows\n",
            "\n"
          ]
        }
      ],
      "source": [
        "# Create the \"products_df\" DataFrame that drops the duplicates in the \"product_id\" and \"product_title columns. \n",
        "products_df = df.select(['product_id','product_title'])\n",
        "products_df = products_df.dropDuplicates(['product_id'])\n",
        "products_df.show()\n"
      ]
    },
    {
      "cell_type": "markdown",
      "source": [
        "## Create the \"customers\" Table"
      ],
      "metadata": {
        "id": "LJHuZ9zut0e5"
      }
    },
    {
      "cell_type": "code",
      "execution_count": null,
      "metadata": {
        "colab": {
          "base_uri": "https://localhost:8080/"
        },
        "id": "_pF2Vf3c2n2O",
        "outputId": "9d8cb7c8-bb76-48c2-a7f8-18bfe517d770"
      },
      "outputs": [
        {
          "output_type": "stream",
          "name": "stdout",
          "text": [
            "+-----------+------------+\n",
            "|customer_id|customer_cnt|\n",
            "+-----------+------------+\n",
            "|    7080939|        1907|\n",
            "|   42418272|        1821|\n",
            "|   29274627|         802|\n",
            "|   53037408|         667|\n",
            "|   22015347|         618|\n",
            "|   35193692|         611|\n",
            "|   34633160|         576|\n",
            "|   14314332|         557|\n",
            "|   26687122|         530|\n",
            "|   34376725|         468|\n",
            "|   45395259|         464|\n",
            "|   12887339|         426|\n",
            "|    3618115|         422|\n",
            "|   29141083|         408|\n",
            "|   52496677|         393|\n",
            "|   13679703|         391|\n",
            "|    6212523|         365|\n",
            "|   52042479|         360|\n",
            "|   31759399|         346|\n",
            "|   50579062|         330|\n",
            "+-----------+------------+\n",
            "only showing top 20 rows\n",
            "\n"
          ]
        }
      ],
      "source": [
        "# Create the \"customers_df\" DataFrame that groups the data on the \"customer_id\" by the number of times a customer reviewed a product. \n",
        "from pyspark.sql.functions import desc\n",
        "customers_df = df.groupby('customer_id').agg({\"customer_id\":\"count\"}).withColumnRenamed('count(customer_id)', 'customer_cnt')\n",
        "customers_df.orderBy(desc('customer_cnt')).show()\n"
      ]
    },
    {
      "cell_type": "markdown",
      "source": [
        "## Create the \"vine_table\"."
      ],
      "metadata": {
        "id": "8SbTasxbuXGK"
      }
    },
    {
      "cell_type": "code",
      "execution_count": null,
      "metadata": {
        "colab": {
          "base_uri": "https://localhost:8080/"
        },
        "id": "WHQKbmCE2p3Q",
        "outputId": "b83bf141-1213-493d-b105-7806923e0489"
      },
      "outputs": [
        {
          "output_type": "stream",
          "name": "stdout",
          "text": [
            "+--------------+-----------+-------------+-----------+----+\n",
            "|     review_id|star_rating|helpful_votes|total_votes|vine|\n",
            "+--------------+-----------+-------------+-----------+----+\n",
            "|R14LVB34Z2Z53I|          5|            0|          0|   N|\n",
            "|R2M0R9CWPC82LT|          5|            0|          0|   N|\n",
            "| RQNQI2R3BM52A|          4|            0|          0|   N|\n",
            "| RTUIX1135HUAB|          5|            0|          0|   N|\n",
            "| RE3QSAT8TL010|          4|            0|          0|   N|\n",
            "|R14TN65IY0NUOD|          5|            0|          0|   N|\n",
            "|R3LIF8MCNH1ODF|          5|            0|          0|   N|\n",
            "|R33X0DGA4PPQ3L|          5|            3|          3|   N|\n",
            "|R2DJJP7DQRT1ZW|          5|            0|          1|   N|\n",
            "|R2A8XDXW5XOT4H|          5|            0|          0|   N|\n",
            "|R3MJK3L7ER61TT|          5|            0|          0|   N|\n",
            "|R38Z7XMCVDR0R5|          5|            1|          1|   N|\n",
            "|R3FFESBQXPR7S6|          4|            0|          0|   N|\n",
            "|R3QO6Z942CKH34|          5|            1|          1|   N|\n",
            "|R297119MDWMG9P|          5|            0|          0|   N|\n",
            "| R7EJRSXIXMLIY|          5|            0|          0|   N|\n",
            "|R2EBGPZD0B3TSV|          5|            0|          0|   N|\n",
            "|R229VSSFBNB90C|          5|            0|          0|   N|\n",
            "|R12YCDYTDBJH3X|          5|            0|          0|   N|\n",
            "|R3DEVUNGQ2Y98S|          5|            0|          0|   N|\n",
            "+--------------+-----------+-------------+-----------+----+\n",
            "only showing top 20 rows\n",
            "\n"
          ]
        }
      ],
      "source": [
        "# Create the \"vine_df\" DataFrame that has the \"review_id\", \"star_rating\", \"helpful_votes\", \"total_votes\", and \"vine\" columns. \n",
        "vine_df = df.select([\"review_id\", \"star_rating\", \"helpful_votes\", \"total_votes\", \"vine\"])\n",
        "vine_df.show()\n"
      ]
    },
    {
      "cell_type": "markdown",
      "metadata": {
        "id": "I8aTsEjZ2s6L"
      },
      "source": [
        "# Load"
      ]
    },
    {
      "cell_type": "code",
      "execution_count": null,
      "metadata": {
        "id": "W4dzUKfI2vXM"
      },
      "outputs": [],
      "source": [
        "mode = \"append\"\n",
        "jdbc_url=\"jdbc:postgresql://my-data-class-db.c4q3joupwllm.us-east-1.rds.amazonaws.com:5432/my-data-class-db\"\n",
        "config = {\"user\":\"postgres\", \"password\": \"testpass\", \"driver\":\"org.postgresql.Driver\"}"
      ]
    },
    {
      "cell_type": "code",
      "execution_count": null,
      "metadata": {
        "id": "iOxKqMsD2yVs"
      },
      "outputs": [],
      "source": [
        "# Write review_id_df to table in RDS\n",
        "review_id_df.write.jdbc(url=jdbc_url, table='review_id', mode=mode, properties=config)"
      ]
    },
    {
      "cell_type": "code",
      "execution_count": null,
      "metadata": {
        "id": "pPXyGVE-2yPJ"
      },
      "outputs": [],
      "source": [
        "# Write products_df to table in RDS\n",
        "products_df.write.jdbc(url=jdbc_url, table='products', mode=mode, properties=config)"
      ]
    },
    {
      "cell_type": "code",
      "execution_count": null,
      "metadata": {
        "id": "aHbca4zN2yIa"
      },
      "outputs": [],
      "source": [
        "# Write customers_df to table in RDS\n",
        "customers_df.write.jdbc(url=jdbc_url, table='customers', mode=mode, properties=config)"
      ]
    },
    {
      "cell_type": "code",
      "execution_count": null,
      "metadata": {
        "id": "2HfOFneW2x_F"
      },
      "outputs": [],
      "source": [
        "# Write vine_df to table in RDS\n",
        "vine_df.write.jdbc(url=jdbc_url, table='vine', mode=mode, properties=config)"
      ]
    }
  ],
  "metadata": {
    "colab": {
      "provenance": [],
      "include_colab_link": true
    },
    "kernelspec": {
      "display_name": "Python 3",
      "language": "python",
      "name": "python3"
    },
    "language_info": {
      "codemirror_mode": {
        "name": "ipython",
        "version": 3
      },
      "file_extension": ".py",
      "mimetype": "text/x-python",
      "name": "python",
      "nbconvert_exporter": "python",
      "pygments_lexer": "ipython3",
      "version": "3.8.8"
    }
  },
  "nbformat": 4,
  "nbformat_minor": 0
}